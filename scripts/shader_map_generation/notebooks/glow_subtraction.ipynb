{
 "cells": [
  {
   "cell_type": "code",
   "execution_count": null,
   "metadata": {},
   "outputs": [],
   "source": [
    "import sys\n",
    "sys.path.append('..')\n",
    "\n",
    "import utils as ut\n",
    "import image_processes as imgp\n",
    "import cv2\n",
    "import os\n",
    "import numpy as np\n",
    "%load_ext autoreload\n",
    "%autoreload 2"
   ]
  },
  {
   "cell_type": "code",
   "execution_count": null,
   "metadata": {},
   "outputs": [],
   "source": [
    "borderImgName = 'map_borders.png'\n",
    "colorImgName = 'map_colors.png'\n",
    "\n",
    "projectName = 'glow_soustraction'\n",
    "texturePath = '../../../textures/map512/'\n",
    "outputPath = '../../../outputs/'\n",
    "outputPath = os.path.join(outputPath, projectName)\n",
    "\n",
    "if not os.path.exists(outputPath):\n",
    "    os.makedirs(outputPath)\n",
    "\n",
    "borderImgPath = os.path.join(texturePath, borderImgName)\n",
    "colorImgPath = os.path.join(texturePath, colorImgName)"
   ]
  },
  {
   "cell_type": "code",
   "execution_count": null,
   "metadata": {},
   "outputs": [],
   "source": [
    "# Load with alpha channel\n",
    "colorImg = cv2.imread(colorImgPath, cv2.IMREAD_UNCHANGED)\n",
    "borderImg = cv2.imread(borderImgPath, cv2.IMREAD_UNCHANGED)\n",
    "\n",
    "# COLOR_BGRA2RGBA !\n",
    "colorImg = cv2.cvtColor(colorImg, cv2.COLOR_BGRA2RGBA)\n",
    "print(colorImg[0])\n",
    "borderImg = cv2.cvtColor(borderImg, cv2.COLOR_BGRA2RGBA)\n",
    "\n",
    "h, w, _ = colorImg.shape\n",
    "# h, w = 300, 300\n",
    "\n",
    "colorImg = cv2.resize(colorImg, (h, w))\n",
    "borderImg = cv2.resize(borderImg, (h, w))\n",
    "\n",
    "ut.show(colorImg)\n",
    "ut.show(borderImg)\n"
   ]
  },
  {
   "cell_type": "code",
   "execution_count": null,
   "metadata": {},
   "outputs": [],
   "source": [
    "subtraction = imgp.alphaSubtraction(colorImg, borderImg, True)\n",
    "ut.saveCVImage(outputPath, 'alphaSubstraction.png', subtraction)"
   ]
  },
  {
   "cell_type": "code",
   "execution_count": null,
   "metadata": {},
   "outputs": [],
   "source": [
    "noAlphaSubtraction = imgp.alphaSubstractionWithThreshold(colorImg, borderImg, 254, display= False)\n",
    "ut.saveCVImage(outputPath, 'noAlphaSubstraction.png', noAlphaSubtraction)"
   ]
  },
  {
   "cell_type": "code",
   "execution_count": null,
   "metadata": {},
   "outputs": [],
   "source": [
    "height, width, channels = colorImg.shape\n",
    "blank_image= imgp.createBlankImage(height, width)\n",
    "\n",
    "alpha = borderImg[:,:,3] / 255.0\n",
    "alpha = alpha[:,:,np.newaxis]\n",
    "blank_image = (1-alpha)*blank_image + alpha*borderImg\n",
    "blank_image = blank_image.astype(np.uint8)\n",
    "\n",
    "ut.show(blank_image)"
   ]
  },
  {
   "cell_type": "code",
   "execution_count": null,
   "metadata": {},
   "outputs": [],
   "source": []
  }
 ],
 "metadata": {
  "kernelspec": {
   "display_name": "Python 3",
   "language": "python",
   "name": "python3"
  },
  "language_info": {
   "codemirror_mode": {
    "name": "ipython",
    "version": 3
   },
   "file_extension": ".py",
   "mimetype": "text/x-python",
   "name": "python",
   "nbconvert_exporter": "python",
   "pygments_lexer": "ipython3",
   "version": "3.11.1"
  },
  "orig_nbformat": 4
 },
 "nbformat": 4,
 "nbformat_minor": 2
}
