{
 "cells": [
  {
   "cell_type": "code",
   "execution_count": null,
   "metadata": {},
   "outputs": [],
   "source": [
    "import sys\n",
    "sys.path.append('..')\n",
    "\n",
    "import utils as ut\n",
    "import numpy as np\n",
    "import cv2\n",
    "import json\n",
    "import os\n",
    "\n",
    "\n",
    "%load_ext autoreload\n",
    "%autoreload 2"
   ]
  },
  {
   "cell_type": "code",
   "execution_count": null,
   "metadata": {},
   "outputs": [],
   "source": [
    "# PARAMETERS\n",
    "file_name = 'mockup2_province_colors.png'\n",
    "color_json_file_name = 'mockup2.json'"
   ]
  },
  {
   "cell_type": "code",
   "execution_count": null,
   "metadata": {},
   "outputs": [],
   "source": [
    "output_path = '../../../outputs/province_colors'\n",
    "color_json_path = '../inputs/color_jsons'\n",
    "color_json_path = os.path.join(color_json_path, color_json_file_name)"
   ]
  },
  {
   "cell_type": "code",
   "execution_count": null,
   "metadata": {},
   "outputs": [],
   "source": [
    "# Get colors\n",
    "def hex_to_rgb(hex_color):\n",
    "    hex_color = hex_color.lstrip(\"#\")\n",
    "    return tuple(int(hex_color[i:i + 2], 16) for i in (0, 2, 4))\n",
    "\n",
    "\n",
    "with open(color_json_path, \"r\") as f:\n",
    "    data = json.load(f)\n",
    "    hex_color_list = data[\"colors\"]\n",
    "\n",
    "color_list = [hex_to_rgb(color) for color in hex_color_list]"
   ]
  },
  {
   "cell_type": "code",
   "execution_count": null,
   "metadata": {},
   "outputs": [],
   "source": [
    "# Create image\n",
    "width, height = 52, 52\n",
    "image = np.zeros((height, width, 3), dtype=np.uint8)\n",
    "\n",
    "index = 0\n",
    "for y in range(height):\n",
    "    for x in range(width):\n",
    "        color = color_list[index % len(color_list)]\n",
    "        image[y, x] = color[::-1]\n",
    "        index += 1"
   ]
  },
  {
   "cell_type": "code",
   "execution_count": null,
   "metadata": {},
   "outputs": [],
   "source": [
    "# Save and show\n",
    "image = cv2.cvtColor(image, cv2.COLOR_BGR2RGB)\n",
    "ut.saveCVImage(output_path, file_name,\n",
    "               image)\n",
    "upscaled = cv2.resize(image, (width * 10, height * 10),\n",
    "                      interpolation=cv2.INTER_NEAREST)\n",
    "ut.show(upscaled)"
   ]
  }
 ],
 "metadata": {
  "kernelspec": {
   "display_name": "Python 3",
   "language": "python",
   "name": "python3"
  },
  "language_info": {
   "codemirror_mode": {
    "name": "ipython",
    "version": 3
   },
   "file_extension": ".py",
   "mimetype": "text/x-python",
   "name": "python",
   "nbconvert_exporter": "python",
   "pygments_lexer": "ipython3",
   "version": "3.11.1"
  },
  "orig_nbformat": 4
 },
 "nbformat": 4,
 "nbformat_minor": 2
}
