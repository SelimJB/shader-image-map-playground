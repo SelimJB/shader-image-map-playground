{
 "cells": [
  {
   "cell_type": "code",
   "execution_count": null,
   "metadata": {},
   "outputs": [],
   "source": [
    "import sys\n",
    "sys.path.append('..')\n",
    "\n",
    "from utils import show\n",
    "import image_processes as imgp\n",
    "import map_processes as mapp\n",
    "import utils as ut\n",
    "import numpy as np\n",
    "import cv2\n",
    "import os\n",
    "import numpy as np\n",
    "from skimage.morphology import medial_axis\n",
    "from skimage.util import invert\n",
    "from skimage.io import imread\n",
    "import json\n",
    "\n",
    "%load_ext autoreload\n",
    "%autoreload 2\n"
   ]
  },
  {
   "cell_type": "code",
   "execution_count": null,
   "metadata": {},
   "outputs": [],
   "source": [
    "imgName = 'map.png'\n",
    "texturePath = '../../../textures/map512/'\n",
    "outputPath = './outputs/thickening/'\n",
    "\n",
    "imgPath = os.path.join(texturePath, imgName)\n",
    "\n",
    "image = imread(imgPath, as_gray=True)\n",
    "\n",
    "height, width = image.shape\n",
    "# imgSize = (250, 250)\n",
    "imgSize = (width, height)\n",
    "image = cv2.resize(image, imgSize)\n",
    "\n",
    "if not os.path.exists(outputPath):\n",
    "    os.makedirs(outputPath)\n",
    "\n",
    "# Copy imgPath as input.png\n",
    "inputPath = os.path.join(outputPath, 'input.png')\n",
    "cv2.imwrite(inputPath, cv2.cvtColor(imread(imgPath), cv2.COLOR_BGR2RGB))\n"
   ]
  },
  {
   "cell_type": "code",
   "execution_count": null,
   "metadata": {},
   "outputs": [],
   "source": [
    "# ut.show((image * 255).astype(np.uint8))"
   ]
  },
  {
   "cell_type": "code",
   "execution_count": null,
   "metadata": {},
   "outputs": [],
   "source": [
    "# Skeletonize\n",
    "skeleton = imgp.skeletonize(image, 0.35, True, False)\n",
    "skeleton_uint8 = (skeleton * 255).astype(np.uint8)\n",
    "ut.saveCVImage(outputPath, 'skeleton.png', skeleton_uint8)"
   ]
  },
  {
   "cell_type": "code",
   "execution_count": null,
   "metadata": {},
   "outputs": [],
   "source": [
    "# DILATATION\n",
    "imgDilated = imgp.dilatation(skeleton_uint8, 4, True)\n",
    "ut.saveCVImage(outputPath, 'simpleDilatation.png', imgDilated)"
   ]
  },
  {
   "cell_type": "code",
   "execution_count": null,
   "metadata": {},
   "outputs": [],
   "source": [
    "# Blur\n",
    "imgBlurred = imgp.blur(skeleton_uint8, 6, True)\n",
    "ut.saveCVImage(outputPath, 'simpleBlur.png', imgBlurred)\n"
   ]
  },
  {
   "cell_type": "code",
   "execution_count": null,
   "metadata": {},
   "outputs": [],
   "source": [
    "# Funny use of DILATATION to remove borders\n",
    "imgp.removeLines(imread(imgPath), 5, False)"
   ]
  },
  {
   "cell_type": "code",
   "execution_count": null,
   "metadata": {},
   "outputs": [],
   "source": [
    "# Test superposition of dilatations\n",
    "composition = imgp.test(skeleton, 4, False)\n",
    "cv2.imwrite(os.path.join(outputPath, 'composition.png'), composition);"
   ]
  },
  {
   "cell_type": "code",
   "execution_count": null,
   "metadata": {},
   "outputs": [],
   "source": [
    "# Normalize blurred image\n",
    "blur = imgp.blur(skeleton_uint8, 10, False)\n",
    "blur_rgba = imgp.normalizeBlurredImage(blur, 80, True)\n",
    "cv2.imwrite(os.path.join(outputPath, 'blurred.png'), blur_rgba)\n"
   ]
  },
  {
   "cell_type": "code",
   "execution_count": null,
   "metadata": {},
   "outputs": [],
   "source": [
    "# Thickening\n",
    "color = imgp.hex_to_rgba(\"#614338\")\n",
    "normalizedBlurredDilatedImg = imgp.thickening(\n",
    "    skeleton, 8, 4, 80, color, True, False)\n",
    "ut.saveCVImage(outputPath, 'thickening.png',\n",
    "               normalizedBlurredDilatedImg)"
   ]
  },
  {
   "cell_type": "code",
   "execution_count": null,
   "metadata": {},
   "outputs": [],
   "source": []
  }
 ],
 "metadata": {
  "kernelspec": {
   "display_name": "Python 3",
   "language": "python",
   "name": "python3"
  },
  "language_info": {
   "codemirror_mode": {
    "name": "ipython",
    "version": 3
   },
   "file_extension": ".py",
   "mimetype": "text/x-python",
   "name": "python",
   "nbconvert_exporter": "python",
   "pygments_lexer": "ipython3",
   "version": "3.11.1"
  },
  "orig_nbformat": 4
 },
 "nbformat": 4,
 "nbformat_minor": 2
}
