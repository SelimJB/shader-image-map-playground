{
 "cells": [
  {
   "cell_type": "code",
   "execution_count": null,
   "metadata": {},
   "outputs": [],
   "source": [
    "import sys\n",
    "sys.path.append('..')\n",
    "\n",
    "from utils import show\n",
    "import image_processes as imgp\n",
    "import map_processes as mapp\n",
    "import utils as ut\n",
    "import numpy as np\n",
    "import cv2\n",
    "import os\n",
    "import numpy as np\n",
    "from skimage.morphology import medial_axis\n",
    "from skimage.util import invert\n",
    "from skimage.io import imread\n",
    "import json\n",
    "\n",
    "%load_ext autoreload\n",
    "%autoreload 2\n"
   ]
  },
  {
   "cell_type": "code",
   "execution_count": null,
   "metadata": {},
   "outputs": [],
   "source": [
    "imgName = 'map.jpg'\n",
    "projectName = 'map4096'\n",
    "texturePath = '../../../textures/map4096/'\n",
    "outputPath = './outputs/'\n",
    "outputPath = os.path.join(outputPath, projectName)\n",
    "\n",
    "imgPath = os.path.join(texturePath, imgName)\n",
    "# gray to get the height and width with shape\n",
    "image = imread(imgPath, as_gray=True)\n",
    "height, width = image.shape\n",
    "\n",
    "# imgSize = (int(width/8), int(height/8))\n",
    "imgSize = (width, height)\n",
    "image = cv2.resize(image, imgSize)\n",
    "\n",
    "if not os.path.exists(outputPath):\n",
    "    os.makedirs(outputPath)\n",
    "\n",
    "inputPath = os.path.join(outputPath, 'input.png')\n",
    "cv2.imwrite(inputPath, cv2.cvtColor(imread(imgPath), cv2.COLOR_BGR2RGB))\n",
    "\n",
    "\n",
    "def getPath(filename):\n",
    "    return os.path.join(outputPath, filename)"
   ]
  },
  {
   "cell_type": "code",
   "execution_count": null,
   "metadata": {},
   "outputs": [],
   "source": [
    "image = cv2.imread(imgPath)\n",
    "image = cv2.resize(image, imgSize)\n",
    "imgp.convertToRGB(image, False);"
   ]
  },
  {
   "cell_type": "code",
   "execution_count": null,
   "metadata": {},
   "outputs": [],
   "source": [
    "gray = imgp.convertToGray(image, False)"
   ]
  },
  {
   "cell_type": "code",
   "execution_count": null,
   "metadata": {},
   "outputs": [],
   "source": [
    "# Threshold\n",
    "grayThreshold = 120\n",
    "thresholded = imgp.threshold(gray, grayThreshold, True)"
   ]
  },
  {
   "cell_type": "code",
   "execution_count": null,
   "metadata": {},
   "outputs": [],
   "source": [
    "# Skeleton\n",
    "sensitivity = 0.47\n",
    "gray_normalized = imgp.imreadGrayNormalized(imgPath, imgSize)\n",
    "skeleton = imgp.skeletonize(gray_normalized, sensitivity, True)\n",
    "ut.saveBinaryImage(getPath(\"skeleton.png\"), skeleton);"
   ]
  },
  {
   "cell_type": "code",
   "execution_count": null,
   "metadata": {},
   "outputs": [],
   "source": [
    "# Get contours\n",
    "contours, points = imgp.getContours(gray, grayThreshold)\n",
    "print(len(contours))\n",
    "\n",
    "# Draw contours\n",
    "filled_image = imgp.drawContours(skeleton, contours, False)\n",
    "\n",
    "# Test filling\n",
    "imgp.fillContours(skeleton, filled_image, points, True)"
   ]
  },
  {
   "cell_type": "code",
   "execution_count": null,
   "metadata": {},
   "outputs": [],
   "source": [
    "provinceDataViews, mapColors, mapDebug = mapp.doMapQuantization(\n",
    "    skeleton, points, True, True)\n",
    "\n",
    "cv2.imwrite(getPath(\"map_colors.png\"),\n",
    "            cv2.cvtColor(mapColors, cv2.COLOR_BGR2RGB))\n",
    "\n",
    "if mapDebug is not None:    \n",
    "    cv2.imwrite(getPath(\"map_colors_debug.png\"),\n",
    "                cv2.cvtColor(mapDebug, cv2.COLOR_BGR2RGB))"
   ]
  },
  {
   "cell_type": "code",
   "execution_count": null,
   "metadata": {},
   "outputs": [],
   "source": [
    "# CREATING JSON\n",
    "data = mapp.createMapJson(\n",
    "    projectName, 10, provinceDataViews, width+1024, height+1024)\n",
    "ut.writeJson(data, outputPath, projectName)"
   ]
  },
  {
   "cell_type": "code",
   "execution_count": null,
   "metadata": {},
   "outputs": [],
   "source": [
    "# CREATING BORDERS\n",
    "invertedSkeleton = invert(skeleton)\n",
    "color = imgp.hex_to_rgba(\"#614338\")\n",
    "mapBorders = imgp.thickening(\n",
    "    invertedSkeleton, 8, 4, 80, color, True, False)\n",
    "ut.saveCVImage(outputPath, 'map_borders.png',\n",
    "               mapBorders)\n"
   ]
  },
  {
   "cell_type": "code",
   "execution_count": null,
   "metadata": {},
   "outputs": [],
   "source": [
    "# Generate glow map\n",
    "glowInput = cv2.cvtColor(mapColors, cv2.COLOR_RGB2RGBA)\n",
    "mapGlow = imgp.alphaSubtraction(glowInput, mapBorders, True)\n",
    "ut.saveCVImage(outputPath, 'map_glow.png', mapGlow)"
   ]
  },
  {
   "cell_type": "code",
   "execution_count": null,
   "metadata": {},
   "outputs": [],
   "source": [
    "# Generate debug map\n",
    "mask = imgp.createBlankImage(width, height, (60, 20, 90, 255))\n",
    "ut.saveCVImage(outputPath, 'map_debug.png', mask)"
   ]
  },
  {
   "cell_type": "code",
   "execution_count": null,
   "metadata": {},
   "outputs": [],
   "source": []
  }
 ],
 "metadata": {
  "kernelspec": {
   "display_name": "Python 3",
   "language": "python",
   "name": "python3"
  },
  "language_info": {
   "codemirror_mode": {
    "name": "ipython",
    "version": 3
   },
   "file_extension": ".py",
   "mimetype": "text/x-python",
   "name": "python",
   "nbconvert_exporter": "python",
   "pygments_lexer": "ipython3",
   "version": "3.11.1"
  },
  "orig_nbformat": 4
 },
 "nbformat": 4,
 "nbformat_minor": 2
}
