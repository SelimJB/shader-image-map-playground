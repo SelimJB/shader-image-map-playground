{
 "cells": [
  {
   "cell_type": "code",
   "execution_count": null,
   "metadata": {},
   "outputs": [],
   "source": [
    "from utils import show, getColor\n",
    "from skimage import feature, morphology\n",
    "import cv2\n",
    "import os\n",
    "import numpy as np\n",
    "from skimage import morphology\n",
    "from skimage.morphology import medial_axis\n",
    "from skimage.util import invert\n",
    "from skimage.io import imread\n",
    "%load_ext autoreload\n",
    "%autoreload 2\n"
   ]
  },
  {
   "cell_type": "code",
   "execution_count": null,
   "metadata": {},
   "outputs": [],
   "source": [
    "borderImgName = 'Map2048_borders.png'\n",
    "colorImgName = 'Map2048_colors.png'\n",
    "texturePath = '../../textures/maps/'\n",
    "borderImgPath = os.path.join(texturePath, borderImgName)\n",
    "colorImgPath = os.path.join(texturePath, colorImgName)"
   ]
  },
  {
   "cell_type": "code",
   "execution_count": null,
   "metadata": {},
   "outputs": [],
   "source": [
    "# Load with alpha channel\n",
    "colorImg = cv2.imread(colorImgPath, cv2.IMREAD_UNCHANGED)\n",
    "borderImg = cv2.imread(borderImgPath, cv2.IMREAD_UNCHANGED)\n",
    "\n",
    "# COLOR_BGRA2RGBA !\n",
    "colorImg = cv2.cvtColor(colorImg, cv2.COLOR_BGRA2RGBA)\n",
    "borderImg = cv2.cvtColor(borderImg, cv2.COLOR_BGRA2RGBA)\n",
    "\n",
    "h, w, _ = colorImg.shape\n",
    "# h, w = 300, 300\n",
    "\n",
    "colorImg = cv2.resize(colorImg, (h, w))\n",
    "borderImg = cv2.resize(borderImg, (h, w))\n",
    "\n",
    "print(colorImg[0,0])\n",
    "print(borderImg[0,0])\n",
    "\n",
    "show(colorImg)\n",
    "show(borderImg)\n"
   ]
  },
  {
   "cell_type": "code",
   "execution_count": null,
   "metadata": {},
   "outputs": [],
   "source": [
    "height, width, channels = colorImg.shape\n",
    "blank_image = np.zeros((height, width, 4), np.uint8)\n",
    "blank_image[:, :] = (0, 255, 255, 255)      # (B, G, R)\n",
    "\n",
    "# Normalized alpha channel of border image\n",
    "alpha = borderImg[:,:,3] / 255.0\n",
    "\n",
    "# Reshape alpha to match the image shape\n",
    "alpha = alpha[:,:,np.newaxis]\n",
    "\n",
    "# Perform lerp operation with broadcasting\n",
    "blank_image = (1-alpha)*blank_image + alpha*borderImg\n",
    "\n",
    "# As the operation might promote to float64, cast it back to uint8\n",
    "blank_image = blank_image.astype(np.uint8)\n",
    "\n",
    "# print first pixel of borderImg\n",
    "print(borderImg[0,0])\n",
    "print(blank_image[0,0])\n",
    "show(blank_image)"
   ]
  },
  {
   "cell_type": "code",
   "execution_count": null,
   "metadata": {},
   "outputs": [],
   "source": [
    "height, width, channels = colorImg.shape\n",
    "\n",
    "alphaSubstraction = colorImg.copy()\n",
    "\n",
    "alphaSubstraction[:,:,3][borderImg[:,:,3] > 0] = 0\n",
    "\n",
    "show(alphaSubstraction)"
   ]
  },
  {
   "cell_type": "code",
   "execution_count": null,
   "metadata": {},
   "outputs": [],
   "source": [
    "height, width, channels = colorImg.shape\n",
    "\n",
    "noAlphaSubstraction = colorImg.copy()\n",
    "\n",
    "noAlphaSubstraction[:,:,3][borderImg[:,:,3] > 0.99] = 0\n",
    "\n",
    "show(noAlphaSubstraction)"
   ]
  },
  {
   "cell_type": "code",
   "execution_count": null,
   "metadata": {},
   "outputs": [],
   "source": []
  }
 ],
 "metadata": {
  "kernelspec": {
   "display_name": "Python 3",
   "language": "python",
   "name": "python3"
  },
  "language_info": {
   "codemirror_mode": {
    "name": "ipython",
    "version": 3
   },
   "file_extension": ".py",
   "mimetype": "text/x-python",
   "name": "python",
   "nbconvert_exporter": "python",
   "pygments_lexer": "ipython3",
   "version": "3.11.1"
  },
  "orig_nbformat": 4
 },
 "nbformat": 4,
 "nbformat_minor": 2
}
