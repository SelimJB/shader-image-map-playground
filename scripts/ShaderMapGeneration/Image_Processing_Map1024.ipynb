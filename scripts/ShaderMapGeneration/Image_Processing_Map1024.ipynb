{
 "cells": [
  {
   "cell_type": "code",
   "execution_count": null,
   "metadata": {},
   "outputs": [],
   "source": [
    "from utils import show, getQuantizedColor\n",
    "# import all in utils \n",
    "import utils as ut\n",
    "from skimage import feature, morphology\n",
    "import numpy as np\n",
    "import cv2\n",
    "import os\n",
    "import numpy as np\n",
    "from skimage import morphology\n",
    "from skimage.morphology import medial_axis\n",
    "from skimage.util import invert\n",
    "from skimage.io import imread\n",
    "%load_ext autoreload\n",
    "%autoreload 2\n"
   ]
  },
  {
   "cell_type": "code",
   "execution_count": null,
   "metadata": {},
   "outputs": [],
   "source": [
    "imgName = 'map1024.png'\n",
    "projectName = 'map1024'\n",
    "texturePath = '../../textures/map1024/'\n",
    "outputPath = './outputs/'\n",
    "outputPath = os.path.join(outputPath, projectName)\n",
    "\n",
    "imgPath = os.path.join(texturePath, imgName)\n",
    "\n",
    "image = imread(imgPath, as_gray=True)\n",
    "\n",
    "height, width = image.shape\n",
    "imgSize = (400, 400)\n",
    "# imgSize = (width, height)\n",
    "image = cv2.resize(image, imgSize)\n",
    "\n",
    "if not os.path.exists(outputPath):\n",
    "    os.makedirs(outputPath)\n",
    "\n",
    "# Copy imgPath as input.png\n",
    "inputPath = os.path.join(outputPath, 'input.png')\n",
    "cv2.imwrite(inputPath, cv2.cvtColor(imread(imgPath), cv2.COLOR_BGR2RGB))"
   ]
  },
  {
   "cell_type": "code",
   "execution_count": null,
   "metadata": {},
   "outputs": [],
   "source": [
    "image = cv2.imread(imgPath)\n",
    "image = cv2.resize(image, imgSize)\n",
    "image_rgb = cv2.cvtColor(image, cv2.COLOR_BGR2RGB)\n",
    "show(image_rgb)"
   ]
  },
  {
   "cell_type": "code",
   "execution_count": null,
   "metadata": {},
   "outputs": [],
   "source": [
    "gray = cv2.cvtColor(image, cv2.COLOR_BGR2GRAY)\n",
    "show(gray)"
   ]
  },
  {
   "cell_type": "code",
   "execution_count": null,
   "metadata": {},
   "outputs": [],
   "source": [
    "grayThreshold = 96\n",
    "_, thresholded = cv2.threshold(gray, grayThreshold, 255, cv2.THRESH_BINARY)\n",
    "show(thresholded)"
   ]
  },
  {
   "cell_type": "code",
   "execution_count": null,
   "metadata": {},
   "outputs": [],
   "source": [
    "# CANNY\n",
    "sigma = 4\n",
    "_, thresholded = cv2.threshold(gray, grayThreshold, 255, cv2.THRESH_BINARY)\n",
    "canny = feature.canny(thresholded, sigma=sigma)\n",
    "show(canny)"
   ]
  },
  {
   "cell_type": "code",
   "execution_count": null,
   "metadata": {},
   "outputs": [],
   "source": [
    "# Skeleton\n",
    "sensitivity = 0.36\n",
    "image = imread(imgPath, as_gray=True)\n",
    "image = cv2.resize(image, imgSize)\n",
    "binary_image = image > sensitivity\n",
    "binary_image = invert(binary_image)\n",
    "\n",
    "skeleton, distance = medial_axis(binary_image, return_distance=True)\n",
    "skeleton = invert(skeleton)\n",
    "show(skeleton)\n",
    "cv2.imwrite(os.path.join(outputPath, 'skeleton.png'), (skeleton * 255).astype(np.uint8))"
   ]
  },
  {
   "cell_type": "code",
   "execution_count": null,
   "metadata": {},
   "outputs": [],
   "source": [
    "image = cv2.imread(imgPath, 0)\n",
    "image = cv2.resize(image, imgSize)\n",
    "\n",
    "_, thresh = cv2.threshold(image, grayThreshold, 255, cv2.THRESH_BINARY)\n",
    "contours, _ = cv2.findContours(\n",
    "    thresh, cv2.RETR_EXTERNAL, cv2.CHAIN_APPROX_SIMPLE)\n",
    "\n",
    "blank_image = np.zeros((image.shape[0], image.shape[1], 3), np.uint8)\n",
    "blank_image[:] = (255, 255, 255)\n",
    "print(len(contours))\n",
    "\n",
    "for i, contour in enumerate(contours):\n",
    "    color = (np.random.randint(0, 255), np.random.randint(\n",
    "        0, 255), np.random.randint(0, 255))\n",
    "\n",
    "    cv2.drawContours(blank_image, contours, i, color, -1)\n",
    "\n",
    "\n",
    "show(blank_image)\n"
   ]
  },
  {
   "cell_type": "code",
   "execution_count": null,
   "metadata": {},
   "outputs": [],
   "source": [
    "figure = skeleton\n",
    "skeleton_uint8 = (figure * 255).astype(np.uint8)\n",
    "image = cv2.imread(imgPath, 0)\n",
    "image = cv2.resize(image, imgSize)\n",
    "\n",
    "_, thresh = cv2.threshold(image, grayThreshold, 255, cv2.THRESH_BINARY)\n",
    "\n",
    "contours, _ = cv2.findContours(\n",
    "    thresh, cv2.RETR_EXTERNAL, cv2.CHAIN_APPROX_SIMPLE)\n",
    "print(len(contours))\n",
    "\n",
    "filled_image = cv2.cvtColor(skeleton_uint8, cv2.COLOR_GRAY2BGR)\n",
    "\n",
    "points = []\n",
    "for i, contour in enumerate(contours):\n",
    "    color = (np.random.randint(0, 255), np.random.randint(\n",
    "        0, 255), np.random.randint(0, 255))\n",
    "\n",
    "    cv2.drawContours(filled_image, contours, i, color, -1)\n",
    "    points.append(contour[0])\n",
    "\n",
    "show(filled_image)\n"
   ]
  },
  {
   "cell_type": "code",
   "execution_count": null,
   "metadata": {},
   "outputs": [],
   "source": [
    "copy = cv2.cvtColor(invert(skeleton_uint8), cv2.COLOR_GRAY2BGR)\n",
    "\n",
    "for point in points:\n",
    "    x, y = point[0]\n",
    "    color = tuple(filled_image[y, x])\n",
    "    color = (int(color[0]), int(color[1]), int(color[2]))\n",
    "    cv2.floodFill(copy, None, (x, y), color)\n",
    "\n",
    "show(copy)"
   ]
  },
  {
   "cell_type": "code",
   "execution_count": null,
   "metadata": {},
   "outputs": [],
   "source": [
    "copy = cv2.cvtColor(invert(skeleton_uint8), cv2.COLOR_GRAY2BGR)\n",
    "show(copy)\n",
    "i = 0\n",
    "\n",
    "provinceDataViews = []\n",
    "\n",
    "for point in points:\n",
    "    x, y = point[0]\n",
    "    color = getQuantizedColor(i)\n",
    "    provinceDataView = ut.ProvinceDataView(ut.generateRandomName(\n",
    "    ), ut.getHexRandomColor(i), i, ut.getQuantizedValue(color), {\"x\": int(x), \"y\": int(y)})\n",
    "    provinceDataViews.append(provinceDataView)\n",
    "    cv2.floodFill(copy, None, (x, y), color)\n",
    "    i += 1\n",
    "\n",
    "show(copy)"
   ]
  },
  {
   "cell_type": "code",
   "execution_count": null,
   "metadata": {},
   "outputs": [],
   "source": [
    "import json\n",
    "\n",
    "my_objects = []\n",
    "my_objects.append(ut.ProvinceDataView(\"Lavender\", \"#F6A2AC\",\n",
    "                  25, 215, {\"x\": 1209.8106, \"y\": 224.7444}))\n",
    "my_objects.append(ut.ProvinceDataView(\"Rose\", \"#FFC0CB\",\n",
    "                  31, 198, {\"x\": 987.6543, \"y\": 321.0987}))\n",
    "my_objects.append(ut.ProvinceDataView(\"Sunflower\", \"#FFCE00\",\n",
    "                  42, 123, {\"x\": 543.2109, \"y\": 876.5432}))\n",
    "\n",
    "# Take 3 first elements of provinceDataViews and put them in a new array\n",
    "# provinceDataViews = my_objects[:2]\n",
    "print(my_objects[0].name, my_objects[0].color, my_objects[0].id,\n",
    "      my_objects[0].hash, my_objects[0].fixed_position)\n",
    "print(provinceDataViews[0].name, provinceDataViews[0].color, provinceDataViews[0].id,\n",
    "      provinceDataViews[0].hash, provinceDataViews[0].fixed_position)\n",
    "# Again but with types\n",
    "print(type(my_objects[0].name), type(my_objects[0].color), type(\n",
    "    my_objects[0].id), type(my_objects[0].hash), type(my_objects[0].fixed_position))\n",
    "print(type(provinceDataViews[0].name), type(provinceDataViews[0].color), type(\n",
    "    provinceDataViews[0].id), type(provinceDataViews[0].hash), type(provinceDataViews[0].fixed_position))\n",
    "\n",
    "\n",
    "provinceDataViewsJson = ut.convertProvinceDataViewArrayToJson(\n",
    "    provinceDataViews)\n",
    "json_data = json.dumps(provinceDataViewsJson,   indent=4)\n",
    "\n",
    "\n",
    "jsonPath = os.path.join(outputPath, projectName + '.json')\n",
    "with open(jsonPath, 'w') as file:\n",
    "    file.write(json_data)"
   ]
  }
 ],
 "metadata": {
  "kernelspec": {
   "display_name": "Python 3",
   "language": "python",
   "name": "python3"
  },
  "language_info": {
   "codemirror_mode": {
    "name": "ipython",
    "version": 3
   },
   "file_extension": ".py",
   "mimetype": "text/x-python",
   "name": "python",
   "nbconvert_exporter": "python",
   "pygments_lexer": "ipython3",
   "version": "3.11.1"
  },
  "orig_nbformat": 4
 },
 "nbformat": 4,
 "nbformat_minor": 2
}
