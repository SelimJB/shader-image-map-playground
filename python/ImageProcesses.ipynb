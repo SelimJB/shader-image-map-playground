{
 "cells": [
  {
   "cell_type": "code",
   "execution_count": null,
   "metadata": {},
   "outputs": [],
   "source": [
    "from utils import show, getColor\n",
    "from skimage import feature, morphology\n",
    "import numpy as np\n",
    "import cv2\n",
    "import os\n",
    "import numpy as np\n",
    "from skimage import morphology\n",
    "from skimage.morphology import medial_axis\n",
    "from skimage.util import invert\n",
    "from skimage.io import imread\n",
    "%load_ext autoreload\n",
    "%autoreload 2\n"
   ]
  },
  {
   "cell_type": "code",
   "execution_count": null,
   "metadata": {},
   "outputs": [],
   "source": [
    "imgPath = os.path.join('..', 'textures', 'map.png')\n",
    "# imgPath = os.path.join('..', 'textures', 'map.jpg')\n",
    "# imgPath = os.path.join('..', 'textures', 'world.png')\n",
    "imgSize = (300, 300)"
   ]
  },
  {
   "cell_type": "code",
   "execution_count": null,
   "metadata": {},
   "outputs": [],
   "source": [
    "image = cv2.imread(imgPath)\n",
    "image = cv2.resize(image, imgSize)\n",
    "image_rgb = cv2.cvtColor(image, cv2.COLOR_BGR2RGB)\n",
    "show(image_rgb)"
   ]
  },
  {
   "cell_type": "code",
   "execution_count": null,
   "metadata": {},
   "outputs": [],
   "source": [
    "gray = cv2.cvtColor(image, cv2.COLOR_BGR2GRAY)\n",
    "show(gray)"
   ]
  },
  {
   "cell_type": "code",
   "execution_count": null,
   "metadata": {},
   "outputs": [],
   "source": [
    "_, thresholded = cv2.threshold(gray, 95, 255, cv2.THRESH_BINARY)\n",
    "show(thresholded)"
   ]
  },
  {
   "cell_type": "code",
   "execution_count": null,
   "metadata": {},
   "outputs": [],
   "source": [
    "# CANNY\n",
    "grayThreshold, sigma = 97, 2\n",
    "_, thresholded = cv2.threshold(gray, grayThreshold, 255, cv2.THRESH_BINARY)\n",
    "canny = feature.canny(thresholded, sigma=sigma)\n",
    "show(canny)"
   ]
  },
  {
   "cell_type": "code",
   "execution_count": null,
   "metadata": {},
   "outputs": [],
   "source": [
    "# MORPHOLOGY\n",
    "_, edges = cv2.threshold(gray, 97, 255, cv2.THRESH_BINARY)\n",
    "edges = morphology.thin(edges)\n",
    "show(edges)"
   ]
  },
  {
   "cell_type": "code",
   "execution_count": null,
   "metadata": {},
   "outputs": [],
   "source": [
    "# Skeleton\n",
    "sensitivity = 0.35\n",
    "image = imread(imgPath, as_gray=True)\n",
    "image = cv2.resize(image, imgSize)\n",
    "binary_image = image > sensitivity\n",
    "binary_image = invert(binary_image)\n",
    "\n",
    "skeleton, distance = medial_axis(binary_image, return_distance=True)\n",
    "skeleton = invert(skeleton)\n",
    "show(skeleton)"
   ]
  },
  {
   "cell_type": "code",
   "execution_count": null,
   "metadata": {},
   "outputs": [],
   "source": [
    "image = cv2.imread(imgPath, 0)\n",
    "image = cv2.resize(image, imgSize)\n",
    "\n",
    "\n",
    "_, thresh = cv2.threshold(image, 95, 255, cv2.THRESH_BINARY)\n",
    "contours, _ = cv2.findContours(\n",
    "    thresh, cv2.RETR_EXTERNAL, cv2.CHAIN_APPROX_SIMPLE)\n",
    "\n",
    "blank_image = np.zeros((image.shape[0], image.shape[1], 3), np.uint8)\n",
    "blank_image[:] = (255, 255, 255)\n",
    "print(len(contours))\n",
    "\n",
    "for i, contour in enumerate(contours):\n",
    "    color = (np.random.randint(0, 255), np.random.randint(\n",
    "        0, 255), np.random.randint(0, 255))\n",
    "\n",
    "    cv2.drawContours(blank_image, contours, i, color, -1)\n",
    "\n",
    "\n",
    "show(blank_image)\n"
   ]
  },
  {
   "cell_type": "code",
   "execution_count": null,
   "metadata": {},
   "outputs": [],
   "source": [
    "figure = skeleton\n",
    "skeleton_uint8 = (figure * 255).astype(np.uint8)\n",
    "image = cv2.imread(imgPath, 0)\n",
    "image = cv2.resize(image, imgSize)\n",
    "\n",
    "_, thresh = cv2.threshold(image, 95, 255, cv2.THRESH_BINARY)\n",
    "\n",
    "contours, _ = cv2.findContours(\n",
    "    thresh, cv2.RETR_EXTERNAL, cv2.CHAIN_APPROX_SIMPLE)\n",
    "print(len(contours))\n",
    "\n",
    "filled_image = cv2.cvtColor(skeleton_uint8, cv2.COLOR_GRAY2BGR)\n",
    "\n",
    "points = []\n",
    "for i, contour in enumerate(contours):\n",
    "    color = (np.random.randint(0, 255), np.random.randint(\n",
    "        0, 255), np.random.randint(0, 255))\n",
    "\n",
    "    cv2.drawContours(filled_image, contours, i, color, -1)\n",
    "    points.append(contour[0])\n",
    "\n",
    "show(filled_image)\n"
   ]
  },
  {
   "cell_type": "code",
   "execution_count": null,
   "metadata": {},
   "outputs": [],
   "source": [
    "copy = cv2.cvtColor(invert(skeleton_uint8), cv2.COLOR_GRAY2BGR)\n",
    "\n",
    "for point in points:\n",
    "    x, y = point[0]\n",
    "    color = tuple(filled_image[y, x])\n",
    "    # Numeric values\n",
    "    color = (int(color[0]), int(color[1]), int(color[2]))\n",
    "    print(f\"({x}, {y}) -> {color}\")\n",
    "    # Floodfill \n",
    "    cv2.floodFill(copy, None, (x, y), color)\n",
    "\n",
    "\n",
    "show(copy)\n"
   ]
  },
  {
   "cell_type": "code",
   "execution_count": null,
   "metadata": {},
   "outputs": [],
   "source": [
    "copy = cv2.cvtColor(invert(skeleton_uint8), cv2.COLOR_GRAY2BGR)\n",
    "i = 0\n",
    "\n",
    "\n",
    "for point in points:\n",
    "    x, y = point[0]\n",
    "    color = getColor(i)\n",
    "    i += 1\n",
    "    print(f\"{i} : ({x}, {y}) -> {color}\")\n",
    "    # Floodfill \n",
    "    cv2.floodFill(copy, None, (x, y), color)\n",
    "\n",
    "\n",
    "show(copy)\n"
   ]
  },
  {
   "cell_type": "code",
   "execution_count": null,
   "metadata": {},
   "outputs": [],
   "source": []
  }
 ],
 "metadata": {
  "kernelspec": {
   "display_name": "Python 3",
   "language": "python",
   "name": "python3"
  },
  "language_info": {
   "codemirror_mode": {
    "name": "ipython",
    "version": 3
   },
   "file_extension": ".py",
   "mimetype": "text/x-python",
   "name": "python",
   "nbconvert_exporter": "python",
   "pygments_lexer": "ipython3",
   "version": "3.11.1"
  },
  "orig_nbformat": 4
 },
 "nbformat": 4,
 "nbformat_minor": 2
}
